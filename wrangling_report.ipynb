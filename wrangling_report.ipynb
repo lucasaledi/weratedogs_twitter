{
 "cells": [
  {
   "cell_type": "markdown",
   "metadata": {},
   "source": [
    "### Internal document\n",
    "# WeRateDogs twitter archive wrangling report\n",
    "The wrangling process could be summarized as follow:\n",
    "* The 3 different pieces of data were downloaded from the sources available in the main document (wrangle_act.ipynb) and they have been visually and manually assessed in order to find tidiness and quality issues, which have been dealt with in the main document mentioned above;\n",
    "* Relevant cleaning tasks were as follows:\n",
    "- All 3 data frames were merged into one *master_df* and saved into a SQLite server (tweet_archive.db);\n",
    "- Columns  containing dog stages were 4 *(doggo, pupper, puppo, floofer)*. We’ve used *`str.extract()`* function on text column to get all dog stages and, then, load them into one new column *(dog_stages)*. Original columns have been dropped;\n",
    "- Some rows of *expanded_urls* column had 2 different urls entered into them. We’ve used *`str.split()`* function on *expanded_urls* to get a list of all multiple urls and set the value of the column to first item of that list;\n",
    "- The *name* column had some dogs’ names missing, and strings with values equal to “NaN” and “a” entered. We’ve used *`str.split()`* function on the text column to extract the first occurrences (which contain the majority of names). Then, *`str.extract()`* to get only the names starting with capital letters;\n",
    "- The *tweet_id* column contained integers. We’ve used *`.astype()`* function to change data type into string;\n",
    "- Several columns *(in_reply_to_status_id, in_reply_to_user_id, retweeted_status_id, retweeted_status_user_id, and retweeted_status_timestamp)* contained data on non-original tweets. We’ve used *`.dropna()`* function to get rid of any row with non-null values for any of those columns. After this, we created a list containing all the *tweet_ids* relative to those rows and, subsequently, filtered the *master_df* by selecting only those *tweet_ids* not included in the prior list. Finally, we used *`.drop()`* function to remove the, now, irrelevant columns aforementioned;\n",
    "- 23 entries on *tweet_ids* column had values for rate denominators different than 10, however, only 11 actually needed to be fixed. As we couldn’t find an unified approach to them, we have tackled them individually by setting their new values manually;\n",
    "- The *timestamp* column contained strings. We’ve used *`.to_datetime()`* function to convert them into datetime data type;\n",
    "- Both *rate_numerator* and *rate_denominator* columns, in the end, represent one single piece of information: rate. We’ve used *`.astype()`* function to set both columns data type as float. Then, we created a new column called *normalized_rating* by dividing them;\n",
    "- The entries on *source* column contained the HTML anchor reference and HTTP(S) address. We’ve used *`str.extract()`* function and `regex` to get the source between the delimiters ('>source<');\n",
    "- The *num_of_char* column was of object type (float and list). We’ve used *`.astype()`* function to convert its values into strings and, then, *`.split()`* to get both the initial and final number of characters, setting those values as floats. After this, we’ve find out that NaN values on *init_value_numb* and *end_value_numb* columns indicated that those rows were referencing a retweet. As we wanted only original tweet, we used *`.drop()`* function to remove those rows. Finally, we’ve created *num_of_char* column as the subtraction between *end_value_numb* and *init_value_numb* columns and, finally, dropped these last 2 columns;\n",
    "- Columns *favorites*, *retweets*, and *followers* had values as floats. We’ve used *`.astype()`* function to set all columns data type as integer;\n",
    "- We’ve decided to use *p1_dog* column as a proxy for the existence of an image in the correspondent tweet. Some rows with their values as *False*, however, contained a dog image. This was indicative of a certain degree of inaccuracy in the neural network used to identify them. Leaving that aside, we used *`.drop()`* to remove p2 and p3 related columns."
   ]
  }
 ],
 "metadata": {
  "kernelspec": {
   "display_name": "Python 3",
   "language": "python",
   "name": "python3"
  },
  "language_info": {
   "codemirror_mode": {
    "name": "ipython",
    "version": 3
   },
   "file_extension": ".py",
   "mimetype": "text/x-python",
   "name": "python",
   "nbconvert_exporter": "python",
   "pygments_lexer": "ipython3",
   "version": "3.7.6"
  }
 },
 "nbformat": 4,
 "nbformat_minor": 4
}
